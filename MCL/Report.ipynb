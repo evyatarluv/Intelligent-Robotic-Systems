{
 "cells": [
  {
   "cell_type": "markdown",
   "metadata": {
    "collapsed": true,
    "pycharm": {
     "name": "#%% md\n"
    }
   },
   "source": [
    "# Title\n",
    "\n",
    "First thing, let's import some libraries:\n"
   ]
  },
  {
   "cell_type": "code",
   "execution_count": 1,
   "outputs": [],
   "source": [
    "from MCL.World import World\n",
    "from MCL.Robot import Robot\n",
    "import numpy as np\n",
    "import matplotlib.pyplot as plt"
   ],
   "metadata": {
    "collapsed": false,
    "pycharm": {
     "name": "#%% code\n"
    }
   }
  },
  {
   "cell_type": "markdown",
   "source": [
    "*Note: I treated the classes we got as open-source so I feel free to make some changes\n",
    "in them.*\n",
    "\n",
    "## Plotting Robots\n",
    "\n",
    "In order to get more familiar with the `Robot` and `World` classes we were asked to\n",
    "plot some robots in a world:\n"
   ],
   "metadata": {
    "collapsed": false,
    "pycharm": {
     "name": "#%% md\n"
    }
   }
  },
  {
   "cell_type": "code",
   "execution_count": 3,
   "outputs": [
    {
     "data": {
      "text/plain": "<Figure size 432x288 with 1 Axes>",
      "image/png": "[encoded data removed]"
     },
     "metadata": {
      "needs_background": "light"
     },
     "output_type": "display_data"
    }
   ],
   "source": [
    "# Create the world & robots\n",
    "poses = [(45, 45, 0), (50, 60, np.pi / 2), (70, 30, 3 * np.pi / 4)]\n",
    "robots = [Robot(init_pose=p) for p in poses]\n",
    "world = World()\n",
    "\n",
    "# Plot world & robots\n",
    "world.plot(show=False)\n",
    "list(map(lambda x: x.plot(show=False), robots))\n",
    "plt.show()"
   ],
   "metadata": {
    "collapsed": false,
    "pycharm": {
     "name": "#%% code\n"
    }
   }
  },
  {
   "cell_type": "markdown",
   "source": [
    "## Adding `move` method\n",
    "\n",
    "In order to implement a `move` method as required I used the given model\n",
    "motion equations with some noise. First I implemented 3 function for the motion model\n",
    "The functions `x_motion`, `y_motion` and `theta_motion` getting the relevant input and\n",
    "return new x, y, and theta position respectively. Then I added to the `Robot` class 3\n",
    "properties for the motion of x, y and theta. The `__init__` function assign to these\n",
    "properties the above-mentioned functions. Now, for moving any robot all we need to do\n",
    "is to use these functions and then set the new position of the robot using the wonderful\n",
    "giving Robot's method `set`.\n",
    "\n",
    "## Adding `sense` method\n",
    "\n",
    "Next we implemented a `sense` method which get list of landmarks, where\n",
    "each landmark is a tuple of x and y position and return list of measurements.\n",
    "Each measurement $i$ from the measurements list is also a tuple of\n",
    "distance and bearing from the $i$ landmark. The follows equation\n",
    "been used to compute the range and bearing:\n",
    "\n",
    "$$range_i = \\sqrt{(m_{i, x} - x)^2 + (m_{i, y} - y)^2} + \\delta_{range}$$ <br>\n",
    "$$bearing_i = \\operatorname{atan2}(m_{i, y} - y, m_{i, x} - x) - \\theta + \\delta_{bearing}$$\n",
    "\n",
    "where,\n",
    "\n",
    "$$\\delta_{range} \\sim \\mathcal{N}(0, \\sigma_{range}), \\quad \\delta_{bearing} \\sim \\mathcal{N}(0, \\sigma_{bearing})$$\n",
    "\n",
    "and $i$ denote the $i$ landmark.\n",
    "\n",
    "## Adding `measurement_probability` method\n",
    "\n",
    "The `measurement_probability()` method getting the following arguments:\n",
    "\n",
    "1. `pose` - the position we want to compute the probability for it,\n",
    "in the form of $(x, y, \\theta)$. Usually known as $x_t$.\n",
    "\n",
    "1. `measurement` - the measurement we got when we used the `sense()` method,\n",
    "in the form of $(r, \\phi)$. Usually known as $z_t$.\n",
    "\n",
    "1. `landmark` - the position of the landmark we measured $(r, \\phi)$ to it,\n",
    "in the form of $(m_x,m_y)$. Usually known as $m$\n",
    "\n",
    "The method compute the follows expression:\n",
    "\n",
    "$$p(z_t | x_t, m) = prob(r - \\hat{r}, \\sigma_r) * prob(\\phi - \\hat{\\phi}, \\sigma_{\\phi})$$\n",
    "\n",
    "where:\n",
    "\n",
    "$$\\hat{r} = \\sqrt{(m_x - x)^2 - (m_y - y)^2}, \\quad \\hat{\\phi} = atan2(m_y - y, m_x - x) - \\theta$$"
   ],
   "metadata": {
    "collapsed": false
   }
  }
 ],
 "metadata": {
  "kernelspec": {
   "display_name": "Python 3",
   "language": "python",
   "name": "python3"
  },
  "language_info": {
   "codemirror_mode": {
    "name": "ipython",
    "version": 2
   },
   "file_extension": ".py",
   "mimetype": "text/x-python",
   "name": "python",
   "nbconvert_exporter": "python",
   "pygments_lexer": "ipython2",
   "version": "2.7.6"
  }
 },
 "nbformat": 4,
 "nbformat_minor": 0
}