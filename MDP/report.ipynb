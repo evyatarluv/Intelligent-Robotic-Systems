{
 "cells": [
  {
   "cell_type": "markdown",
   "metadata": {
    "collapsed": true,
    "pycharm": {
     "name": "#%% md\n"
    }
   },
   "source": [
    "# Markov-Decision-Process\n",
    "\n",
    "## Terms Definition\n",
    "\n",
    "todo this part lastly\n",
    "\n",
    "## MDP Gridworld\n",
    "\n",
    "First thing - import libraries."
   ]
  },
  {
   "cell_type": "code",
   "execution_count": 1,
   "outputs": [],
   "source": [
    "import os\n",
    "import pickle\n",
    "from MDP.utilitiy import TransitionModel, reward_function"
   ],
   "metadata": {
    "collapsed": false,
    "pycharm": {
     "name": "#%% code\n"
    }
   }
  },
  {
   "cell_type": "markdown",
   "source": [
    "### Transition Model & Reward Function\n",
    "\n",
    "For constructing the transition model I was needed to compute\n",
    "4 different matrices, one for each action. For each action I computed the probability\n",
    "for moving from $s$ state to $s'$ state using the action. Then I construct this as a matrix where\n",
    "the rows represent the 'from' state and the columns represent the 'to'. For example the probability\n",
    "in cell $(3,4)$ represent the probability to move from state $3$ to state $4$ using the action.\n",
    "\n",
    "I'm not sure if it is needed but I show the probability matrix I got for each action. I saved them as pickle files\n",
    "so I first load them and then print each matrix with the corresponding action:"
   ],
   "metadata": {
    "collapsed": false,
    "pycharm": {
     "name": "#%% md\n"
    }
   }
  },
  {
   "cell_type": "code",
   "execution_count": 2,
   "outputs": [
    {
     "name": "stdout",
     "output_type": "stream",
     "text": [
      "\n",
      "Action = North \n",
      "     1    2    3    4    5    6    7    8    9    10   11   12   13   14   16\n",
      "1   1.0  0.0  0.0  0.0  0.0  0.0  0.0  0.0  0.0  0.0  0.0  0.0  0.0  0.0  0.0\n",
      "2   0.8  0.1  0.0  0.0  0.0  0.1  0.0  0.0  0.0  0.0  0.0  0.0  0.0  0.0  0.0\n",
      "3   0.0  0.8  0.1  0.0  0.0  0.0  0.1  0.0  0.0  0.0  0.0  0.0  0.0  0.0  0.0\n",
      "4   0.0  0.0  0.8  0.1  0.0  0.0  0.0  0.1  0.0  0.0  0.0  0.0  0.0  0.0  0.0\n",
      "5   0.1  0.0  0.0  0.0  0.8  0.0  0.0  0.0  0.1  0.0  0.0  0.0  0.0  0.0  0.0\n",
      "6   0.0  0.1  0.0  0.0  0.8  0.0  0.0  0.0  0.0  0.1  0.0  0.0  0.0  0.0  0.0\n",
      "7   0.0  0.0  0.0  0.0  0.0  0.0  1.0  0.0  0.0  0.0  0.0  0.0  0.0  0.0  0.0\n",
      "8   0.0  0.0  0.0  0.1  0.0  0.0  0.8  0.0  0.0  0.0  0.0  0.1  0.0  0.0  0.0\n",
      "9   0.0  0.0  0.0  0.0  0.1  0.0  0.0  0.0  0.8  0.0  0.0  0.0  0.1  0.0  0.0\n",
      "10  0.0  0.0  0.0  0.0  0.0  0.1  0.0  0.0  0.8  0.0  0.0  0.0  0.0  0.1  0.0\n",
      "11  0.0  0.0  0.0  0.0  0.0  0.0  0.1  0.0  0.0  0.8  0.1  0.0  0.0  0.0  0.0\n",
      "12  0.0  0.0  0.0  0.0  0.0  0.0  0.0  0.1  0.0  0.0  0.8  0.0  0.0  0.0  0.1\n",
      "13  0.0  0.0  0.0  0.0  0.0  0.0  0.0  0.0  0.0  0.0  0.0  0.0  1.0  0.0  0.0\n",
      "14  0.0  0.0  0.0  0.0  0.0  0.0  0.0  0.0  0.0  0.0  0.0  0.0  0.0  1.0  0.0\n",
      "16  0.0  0.0  0.0  0.0  0.0  0.0  0.0  0.0  0.0  0.0  0.0  0.1  0.0  0.0  0.9\n",
      "\n",
      "Action = East \n",
      "     1    2    3    4    5    6    7    8    9    10   11   12   13   14   16\n",
      "1   1.0  0.0  0.0  0.0  0.0  0.0  0.0  0.0  0.0  0.0  0.0  0.0  0.0  0.0  0.0\n",
      "2   0.1  0.0  0.1  0.0  0.0  0.8  0.0  0.0  0.0  0.0  0.0  0.0  0.0  0.0  0.0\n",
      "3   0.0  0.1  0.0  0.1  0.0  0.0  0.8  0.0  0.0  0.0  0.0  0.0  0.0  0.0  0.0\n",
      "4   0.0  0.0  0.1  0.1  0.0  0.0  0.0  0.8  0.0  0.0  0.0  0.0  0.0  0.0  0.0\n",
      "5   0.0  0.0  0.0  0.0  0.1  0.1  0.0  0.0  0.8  0.0  0.0  0.0  0.0  0.0  0.0\n",
      "6   0.0  0.0  0.0  0.0  0.1  0.0  0.1  0.0  0.0  0.8  0.0  0.0  0.0  0.0  0.0\n",
      "7   0.0  0.0  0.0  0.0  0.0  0.0  1.0  0.0  0.0  0.0  0.0  0.0  0.0  0.0  0.0\n",
      "8   0.0  0.0  0.0  0.0  0.0  0.0  0.1  0.1  0.0  0.0  0.0  0.8  0.0  0.0  0.0\n",
      "9   0.0  0.0  0.0  0.0  0.0  0.0  0.0  0.0  0.1  0.1  0.0  0.0  0.8  0.0  0.0\n",
      "10  0.0  0.0  0.0  0.0  0.0  0.0  0.0  0.0  0.1  0.0  0.1  0.0  0.0  0.8  0.0\n",
      "11  0.0  0.0  0.0  0.0  0.0  0.0  0.0  0.0  0.0  0.1  0.8  0.1  0.0  0.0  0.0\n",
      "12  0.0  0.0  0.0  0.0  0.0  0.0  0.0  0.0  0.0  0.0  0.1  0.1  0.0  0.0  0.8\n",
      "13  0.0  0.0  0.0  0.0  0.0  0.0  0.0  0.0  0.0  0.0  0.0  0.0  1.0  0.0  0.0\n",
      "14  0.0  0.0  0.0  0.0  0.0  0.0  0.0  0.0  0.0  0.0  0.0  0.0  0.0  1.0  0.0\n",
      "16  0.0  0.0  0.0  0.0  0.0  0.0  0.0  0.0  0.0  0.0  0.0  0.0  0.0  0.0  1.0\n",
      "\n",
      "Action = South \n",
      "     1    2    3    4    5    6    7    8    9    10   11   12   13   14   16\n",
      "1   1.0  0.0  0.0  0.0  0.0  0.0  0.0  0.0  0.0  0.0  0.0  0.0  0.0  0.0  0.0\n",
      "2   0.0  0.1  0.8  0.0  0.0  0.1  0.0  0.0  0.0  0.0  0.0  0.0  0.0  0.0  0.0\n",
      "3   0.0  0.0  0.1  0.8  0.0  0.0  0.1  0.0  0.0  0.0  0.0  0.0  0.0  0.0  0.0\n",
      "4   0.0  0.0  0.0  0.9  0.0  0.0  0.0  0.1  0.0  0.0  0.0  0.0  0.0  0.0  0.0\n",
      "5   0.1  0.0  0.0  0.0  0.0  0.8  0.0  0.0  0.1  0.0  0.0  0.0  0.0  0.0  0.0\n",
      "6   0.0  0.1  0.0  0.0  0.0  0.0  0.8  0.0  0.0  0.1  0.0  0.0  0.0  0.0  0.0\n",
      "7   0.0  0.0  0.0  0.0  0.0  0.0  1.0  0.0  0.0  0.0  0.0  0.0  0.0  0.0  0.0\n",
      "8   0.0  0.0  0.0  0.1  0.0  0.0  0.0  0.8  0.0  0.0  0.0  0.1  0.0  0.0  0.0\n",
      "9   0.0  0.0  0.0  0.0  0.1  0.0  0.0  0.0  0.0  0.8  0.0  0.0  0.1  0.0  0.0\n",
      "10  0.0  0.0  0.0  0.0  0.0  0.1  0.0  0.0  0.0  0.0  0.8  0.0  0.0  0.1  0.0\n",
      "11  0.0  0.0  0.0  0.0  0.0  0.0  0.1  0.0  0.0  0.0  0.1  0.8  0.0  0.0  0.0\n",
      "12  0.0  0.0  0.0  0.0  0.0  0.0  0.0  0.1  0.0  0.0  0.0  0.8  0.0  0.0  0.1\n",
      "13  0.0  0.0  0.0  0.0  0.0  0.0  0.0  0.0  0.0  0.0  0.0  0.0  1.0  0.0  0.0\n",
      "14  0.0  0.0  0.0  0.0  0.0  0.0  0.0  0.0  0.0  0.0  0.0  0.0  0.0  1.0  0.0\n",
      "16  0.0  0.0  0.0  0.0  0.0  0.0  0.0  0.0  0.0  0.0  0.0  0.1  0.0  0.0  0.9\n",
      "\n",
      "Action = West \n",
      "     1    2    3    4    5    6    7    8    9    10   11   12   13   14   16\n",
      "1   1.0  0.0  0.0  0.0  0.0  0.0  0.0  0.0  0.0  0.0  0.0  0.0  0.0  0.0  0.0\n",
      "2   0.1  0.8  0.1  0.0  0.0  0.0  0.0  0.0  0.0  0.0  0.0  0.0  0.0  0.0  0.0\n",
      "3   0.0  0.1  0.8  0.1  0.0  0.0  0.0  0.0  0.0  0.0  0.0  0.0  0.0  0.0  0.0\n",
      "4   0.0  0.0  0.1  0.9  0.0  0.0  0.0  0.0  0.0  0.0  0.0  0.0  0.0  0.0  0.0\n",
      "5   0.8  0.0  0.0  0.0  0.1  0.1  0.0  0.0  0.0  0.0  0.0  0.0  0.0  0.0  0.0\n",
      "6   0.0  0.8  0.0  0.0  0.1  0.0  0.1  0.0  0.0  0.0  0.0  0.0  0.0  0.0  0.0\n",
      "7   0.0  0.0  0.0  0.0  0.0  0.0  1.0  0.0  0.0  0.0  0.0  0.0  0.0  0.0  0.0\n",
      "8   0.0  0.0  0.0  0.8  0.0  0.0  0.1  0.1  0.0  0.0  0.0  0.0  0.0  0.0  0.0\n",
      "9   0.0  0.0  0.0  0.0  0.8  0.0  0.0  0.0  0.1  0.1  0.0  0.0  0.0  0.0  0.0\n",
      "10  0.0  0.0  0.0  0.0  0.0  0.8  0.0  0.0  0.1  0.0  0.1  0.0  0.0  0.0  0.0\n",
      "11  0.0  0.0  0.0  0.0  0.0  0.0  0.8  0.0  0.0  0.1  0.0  0.1  0.0  0.0  0.0\n",
      "12  0.0  0.0  0.0  0.0  0.0  0.0  0.0  0.8  0.0  0.0  0.1  0.1  0.0  0.0  0.0\n",
      "13  0.0  0.0  0.0  0.0  0.0  0.0  0.0  0.0  0.0  0.0  0.0  0.0  1.0  0.0  0.0\n",
      "14  0.0  0.0  0.0  0.0  0.0  0.0  0.0  0.0  0.0  0.0  0.0  0.0  0.0  1.0  0.0\n",
      "16  0.0  0.0  0.0  0.0  0.0  0.0  0.0  0.0  0.0  0.0  0.0  0.8  0.0  0.0  0.2\n"
     ]
    }
   ],
   "source": [
    "actions = ['north', 'east', 'south', 'west']\n",
    "matrices = []\n",
    "for a in actions:\n",
    "\n",
    "    path = 'transition_model/{}.pkl'.format(a)\n",
    "    matrices.append(pickle.load(open(path, 'rb')))\n",
    "    print('\\nAction = {} \\n{}'.format(a.capitalize(), matrices[-1]))"
   ],
   "metadata": {
    "collapsed": false,
    "pycharm": {
     "name": "#%% code\n"
    }
   }
  },
  {
   "cell_type": "markdown",
   "source": [
    "Now to make it easier for use I created a class names `TransitionModel` which wrap all the above-mentioned\n",
    "matrices. The constructor of the class gets list of actions and list of probability matrices (as pandas DataFrames).\n",
    "Then I implemented the method `prob` which computes the probability $p(s'|s,a)$. For example:"
   ],
   "metadata": {
    "collapsed": false,
    "pycharm": {
     "name": "#%% md\n"
    }
   }
  },
  {
   "cell_type": "code",
   "execution_count": 3,
   "outputs": [
    {
     "name": "stdout",
     "output_type": "stream",
     "text": [
      "P(s` = 1 | s = 5, a = N) = 0.1\n"
     ]
    }
   ],
   "source": [
    "tm = TransitionModel(actions = [a[0] for a in actions],\n",
    "                     transition_matrices=matrices)\n",
    "\n",
    "print('P(s` = 1 | s = 5, a = N) = {}'.format(tm.prob(1, 5, 0)))"
   ],
   "metadata": {
    "collapsed": false,
    "pycharm": {
     "name": "#%% code\n"
    }
   }
  },
  {
   "cell_type": "markdown",
   "source": [
    "As I understand the problem, the reward function depends only on the state (and not on $a$ or $s'$).\n",
    "So, all the states the robot gets reward of $-0.04$ except goal state ($+1$), hole ($-1$)\n",
    "and obstacle (not reachable state). I implement the reward function as dict, where the keys are the state\n",
    "and the values are the rewards."
   ],
   "metadata": {
    "collapsed": false,
    "pycharm": {
     "name": "#%% md\n"
    }
   }
  },
  {
   "cell_type": "code",
   "execution_count": 4,
   "outputs": [
    {
     "name": "stdout",
     "output_type": "stream",
     "text": [
      "Reward function: {1: -1, 2: -0.04, 3: -0.04, 4: -0.04, 5: -0.04, 6: -0.04, 7: -1, 8: -0.04, 9: -0.04, 10: -0.04, 11: -0.04, 12: -0.04, 13: 1, 14: -1, 16: -0.04}\n"
     ]
    }
   ],
   "source": [
    "\n",
    "rewards = reward_function(holes=[1, 7, 14],\n",
    "                          goals=[13],\n",
    "                          obstacles=[15])\n",
    "\n",
    "# Print the final reward function\n",
    "print('Reward function: {}'.format(rewards))"
   ],
   "metadata": {
    "collapsed": false,
    "pycharm": {
     "name": "#%% code\n"
    }
   }
  }
 ],
 "metadata": {
  "kernelspec": {
   "display_name": "Python 3",
   "language": "python",
   "name": "python3"
  },
  "language_info": {
   "codemirror_mode": {
    "name": "ipython",
    "version": 2
   },
   "file_extension": ".py",
   "mimetype": "text/x-python",
   "name": "python",
   "nbconvert_exporter": "python",
   "pygments_lexer": "ipython2",
   "version": "2.7.6"
  }
 },
 "nbformat": 4,
 "nbformat_minor": 0
}