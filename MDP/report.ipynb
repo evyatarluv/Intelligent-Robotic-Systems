{
 "cells": [
  {
   "cell_type": "markdown",
   "metadata": {
    "collapsed": true,
    "pycharm": {
     "name": "#%% md\n"
    }
   },
   "source": [
    "# Markov-Decision-Process\n",
    "\n",
    "## Terms Definition\n",
    "\n",
    "todo this part lastly\n",
    "\n",
    "## MDP Gridworld\n",
    "\n",
    "First thing - import libraries."
   ]
  },
  {
   "cell_type": "code",
   "execution_count": 14,
   "outputs": [],
   "source": [
    "from IPython.display import Image\n",
    "import pickle\n",
    "from MDP.World import World\n",
    "from MDP.mdp import TransitionModel, RewardFunction, MDP"
   ],
   "metadata": {
    "collapsed": false,
    "pycharm": {
     "name": "#%% code\n"
    }
   }
  },
  {
   "cell_type": "markdown",
   "source": [
    "### Transition Model & Reward Function\n",
    "\n",
    "For constructing the transition model I was needed to compute\n",
    "4 different matrices, one for each action. For each action I computed the probability\n",
    "for moving from $s$ state to $s'$ state using the action. Then I construct this as a matrix where\n",
    "the rows represent the 'from' state and the columns represent the 'to'. For example the probability\n",
    "in cell $(3,4)$ represent the probability to move from state $3$ to state $4$ using the action.\n",
    "\n",
    "*Note*: I treated the obstacle as extended state, i.e., the state is not reachable at all.\n",
    "Hence, it not part of the transition model and reward function.\n",
    "\n",
    "The matrices can be seen in the appendix, but I still load them here."
   ],
   "metadata": {
    "collapsed": false,
    "pycharm": {
     "name": "#%% md\n"
    }
   }
  },
  {
   "cell_type": "code",
   "execution_count": 15,
   "outputs": [],
   "source": [
    "actions = ['north', 'east', 'south', 'west']\n",
    "path = 'transition_model/{}.pkl'\n",
    "tm_matrices = [pickle.load(open(path.format(a), 'rb')) for a in actions]"
   ],
   "metadata": {
    "collapsed": false,
    "pycharm": {
     "name": "#%% code\n"
    }
   }
  },
  {
   "cell_type": "markdown",
   "source": [
    "Now to make it easier for use I created a class names `TransitionModel` which wrap all the above-mentioned\n",
    "matrices. The constructor of the class gets list of actions and list of probability matrices (as pandas DataFrames).\n",
    "Then I implemented the method `prob` which computes the probability $p(s'|s,a)$. For example:"
   ],
   "metadata": {
    "collapsed": false,
    "pycharm": {
     "name": "#%% md\n"
    }
   }
  },
  {
   "cell_type": "code",
   "execution_count": 16,
   "outputs": [
    {
     "name": "stdout",
     "output_type": "stream",
     "text": [
      "P(s` = 1 | s = 5, a = N) = 0.1\n"
     ]
    }
   ],
   "source": [
    "transition_model = TransitionModel(actions = [a[0] for a in actions],\n",
    "                                   transition_matrices=tm_matrices)\n",
    "\n",
    "print('P(s` = 1 | s = 5, a = N) = {}'.format(transition_model.prob(1, 5, 0)))"
   ],
   "metadata": {
    "collapsed": false,
    "pycharm": {
     "name": "#%% code\n"
    }
   }
  },
  {
   "cell_type": "markdown",
   "source": [
    "Now for the reward function.\n",
    "In each transition from $s$ to $s'$ the robots get reward of $-0.04$. In transition\n",
    "to the goal state or to a hole the robot gets **in addition** a reward of\n",
    "$+1$ or $-1$ corresponded. I construct a reward function for each action, where\n",
    "$r(s, a, s')$ will be great than zero only if it possible to move from $s$ to $s'$ using\n",
    "$a$. The matrices can be found in the appendix."
   ],
   "metadata": {
    "collapsed": false,
    "pycharm": {
     "name": "#%% md\n"
    }
   }
  },
  {
   "cell_type": "code",
   "execution_count": 17,
   "outputs": [],
   "source": [
    "path = 'reward_function/{}.pkl'\n",
    "reward_matrices = [pickle.load(open(path.format(a), 'rb')) for a in actions]"
   ],
   "metadata": {
    "collapsed": false,
    "pycharm": {
     "name": "#%% code\n"
    }
   }
  },
  {
   "cell_type": "markdown",
   "source": [
    "I implemented a class names `RewardFunction` which represent a reward function. The constructor\n",
    "gets a list of actions and list of reward matrix for each action. Then I implements a method\n",
    "to get easily the reward $r(s, a, s')$ by using the method `reward()` which get ($s, a, s'$) and returns\n",
    "the corresponded reward. For the avoidance of doubt here too I will print out all the matrices I got:\n"
   ],
   "metadata": {
    "collapsed": false,
    "pycharm": {
     "name": "#%% md\n"
    }
   }
  },
  {
   "cell_type": "code",
   "execution_count": 18,
   "outputs": [
    {
     "name": "stdout",
     "output_type": "stream",
     "text": [
      "r(s = 2, a = N, s` = 1) = -1.04\n"
     ]
    }
   ],
   "source": [
    "reward_function = RewardFunction(actions = [a[0] for a in actions],\n",
    "                                 reward_matrices=reward_matrices)\n",
    "\n",
    "print('r(s = 2, a = N, s` = 1) = {}'.format(reward_function.reward(2, 0, 1)))"
   ],
   "metadata": {
    "collapsed": false,
    "pycharm": {
     "name": "#%% code\n"
    }
   }
  },
  {
   "cell_type": "markdown",
   "source": [
    "And now for the graphical model when action is 'North':"
   ],
   "metadata": {
    "collapsed": false,
    "pycharm": {
     "name": "#%% md\n"
    }
   }
  },
  {
   "cell_type": "code",
   "execution_count": null,
   "outputs": [],
   "source": [
    "Image(filename='transition_model/MDP_north.png')\n"
   ],
   "metadata": {
    "collapsed": false,
    "pycharm": {
     "name": "#%% code\n"
    }
   }
  },
  {
   "cell_type": "markdown",
   "source": [
    "### Value Iteration (I)\n",
    "\n",
    "In order to solve the MDP using value iteration algorithm I implemented a method called `value_iteration`\n",
    "which get as input a threshold input $\\theta$ and returns a policy $\\pi$.\n",
    "I used $\\theta = 10^{-4}$ as threshold and $\\gamma = 0.99$ as discount factor.\n",
    "\n",
    "Now let's create a MDP instance and solve it while using the value iteration algorithm."
   ],
   "metadata": {
    "collapsed": false
   }
  },
  {
   "cell_type": "code",
   "execution_count": 20,
   "outputs": [
    {
     "name": "stdout",
     "output_type": "stream",
     "text": [
      "Solving MDP using value iteration algorithm...\n",
      "Convergence after 14 iterations\n"
     ]
    },
    {
     "data": {
      "text/plain": "{1: 0,\n 2: 1,\n 3: 0,\n 4: 0,\n 5: 1,\n 6: 0,\n 7: 0,\n 8: 1,\n 9: 1,\n 10: 3,\n 11: 0,\n 12: 0,\n 13: 0,\n 14: 0,\n 16: 3}"
     },
     "execution_count": 20,
     "metadata": {},
     "output_type": "execute_result"
    }
   ],
   "source": [
    "# Create a MDP instance\n",
    "mdp = MDP(World(), transition_model, reward_function, gamma=0.99)\n",
    "\n",
    "# Solve it using value iteration algorithm\n",
    "mdp.value_iteration(theta=10 ** -4, verbose=True)"
   ],
   "metadata": {
    "collapsed": false,
    "pycharm": {
     "name": "#%% code\n"
    }
   }
  },
  {
   "cell_type": "markdown",
   "source": [
    "And now let's plot the results."
   ],
   "metadata": {
    "collapsed": false,
    "pycharm": {
     "name": "#%% md\n"
    }
   }
  },
  {
   "cell_type": "code",
   "execution_count": 21,
   "outputs": [
    {
     "data": {
      "text/plain": "<Figure size 432x288 with 1 Axes>",
      "image/png": "[encoded data removed]"
     },
     "metadata": {
      "needs_background": "light"
     },
     "output_type": "display_data"
    },
    {
     "data": {
      "text/plain": "<Figure size 432x288 with 1 Axes>",
      "image/png": "[encoded data removed]"
     },
     "metadata": {
      "needs_background": "light"
     },
     "output_type": "display_data"
    }
   ],
   "source": [
    "mdp.plot_values()\n",
    "mdp.plot_policy()"
   ],
   "metadata": {
    "collapsed": false,
    "pycharm": {
     "name": "#%% code\n"
    }
   }
  },
  {
   "cell_type": "markdown",
   "source": [
    "So that seem like a great policy!\n",
    "\n",
    "The only thing I was wondered about was the 0.0 at each terminal state.\n",
    "I believe it because in the reward function I used $r(1, a, 1) = 0$ for example.\n",
    "I assume it is correct because the definition we got for a $v(s)$ is: \"the expected\n",
    "return starting from state $s$\", so if I start in a terminal state, I will\n",
    "stay there and will have 0 cookies (I understand the problem as getting a cookie for entering\n",
    "a terminal state, but if I already inside I will get nothing)."
   ],
   "metadata": {
    "collapsed": false,
    "pycharm": {
     "name": "#%% md\n"
    }
   }
  },
  {
   "cell_type": "markdown",
   "source": [
    "### Value Iteration (II)\n",
    "\n",
    "Next I repeated the value iteration algorithm but now with $\\gamma = 0.9$.\n",
    "The gamma is a reflection of how you value your future reward. For example,\n",
    "choosing $gamma = 0$ would means that you are going for a greedy policy\n",
    "where the long-term future does not matter at all."
   ],
   "metadata": {
    "collapsed": false,
    "pycharm": {
     "name": "#%% md\n"
    }
   }
  },
  {
   "cell_type": "code",
   "execution_count": 22,
   "outputs": [
    {
     "name": "stdout",
     "output_type": "stream",
     "text": [
      "Solving MDP using value iteration algorithm...\n",
      "Convergence after 10 iterations\n"
     ]
    },
    {
     "data": {
      "text/plain": "<Figure size 432x288 with 1 Axes>",
      "image/png": "[encoded data removed]"
     },
     "metadata": {
      "needs_background": "light"
     },
     "output_type": "display_data"
    },
    {
     "data": {
      "text/plain": "<Figure size 432x288 with 1 Axes>",
      "image/png": "[encoded data removed]"
     },
     "metadata": {
      "needs_background": "light"
     },
     "output_type": "display_data"
    }
   ],
   "source": [
    "# Set new MDP object but now with gamma = 0.9\n",
    "mdp = MDP(World(), transition_model, reward_function, gamma=0.9)\n",
    "\n",
    "# Solve & Plot\n",
    "mdp.value_iteration(theta=10 ** -4)\n",
    "mdp.plot_values()\n",
    "mdp.plot_policy()"
   ],
   "metadata": {
    "collapsed": false,
    "pycharm": {
     "name": "#%% code\n"
    }
   }
  },
  {
   "cell_type": "markdown",
   "source": [
    "First, about the value function, we can notice that the values are smaller than before.\n",
    "This make sense because the equation we use for the optimal value function is $\\mathcal{R}_s^a + \\gamma \\sum{p(s'|s,a)V(s')}$.\n",
    "The expression $\\mathcal{R}_s^a$ doesn't depend on gamma, so small gamma will make the right expression to be smaller.\n",
    "Conceptually, smaller gamma will value less the future rewards, that's why the value\n",
    "function of each state became smaller when using smaller gamma (in our problem conditions).\n",
    "\n",
    "Over the policy, we can see the only change is:\n",
    "$$\\pi_{\\gamma=0.99}(s_{10}) = W; \\quad \\pi_{\\gamma=0.9}(s_{10}) = N$$\n",
    "\n",
    "I think it because the fact that using smaller gamma will make the policy to be more greedy.\n",
    "The second policy, i.e. $\\gamma = 0.9$, see more cookies when going north, so it make this move despite\n",
    "we can fall into the hole in the right. The first policy, i.e. $\\gamma=0.99$, more \"afraid\" from future holes,\n",
    "and hence decides to go west and avoid any future holes."
   ],
   "metadata": {
    "collapsed": false,
    "pycharm": {
     "name": "#%% md\n"
    }
   }
  },
  {
   "cell_type": "markdown",
   "source": [
    "### Value Iteration (III)\n",
    "\n",
    "Now we need to repeat the value iteration algorithm but with $\\gamma = 0.9$ and $r = -0.02$.\n",
    "I added to the `RewardFunction` class a staticmethod which gets a reward matrix, current\n",
    "transition's reward and new transition reward and returns the reward matrix\n",
    "with the new transition's reward. I used it to update the constructed reward matrices to fit\n",
    "the section's demands. Then I used these matrices for the MDP:"
   ],
   "metadata": {
    "collapsed": false,
    "pycharm": {
     "name": "#%% md\n"
    }
   }
  },
  {
   "cell_type": "code",
   "execution_count": null,
   "outputs": [],
   "source": [
    "# Create the new reward function (r = -0.02)\n",
    "new_reward_matrices = [RewardFunction.change_transition_reward(m, -0.04, -0.02)\n",
    "                       for m in reward_matrices]\n",
    "new_reward_function = RewardFunction(actions=[a[0] for a in actions],\n",
    "                                     reward_matrices=new_reward_matrices)\n",
    "\n",
    "# Solve & Plot\n",
    "mdp = MDP(World(), transition_model, new_reward_function, gamma=0.9)\n",
    "mdp.value_iteration(theta=10 ** -4)\n",
    "mdp.plot_values()\n",
    "mdp.plot_policy()"
   ],
   "metadata": {
    "collapsed": false,
    "pycharm": {
     "name": "#%% code\n"
    }
   }
  },
  {
   "cell_type": "markdown",
   "source": [
    "About the value function - we can notice that all values became larger compared\n",
    "to section c. It make sense because we increased $r$ (paying less for each transition)\n",
    "so larger values were expected.\n",
    "\n",
    "About the policy - it stay the same as section c. It look like increasing\n",
    "$r$ to -0.02 wasn't enough for the greedy policy to make a round in order to avoid\n",
    "a possible fall to the hole in state 14.\n"
   ],
   "metadata": {
    "collapsed": false,
    "pycharm": {
     "name": "#%% md\n"
    }
   }
  },
  {
   "cell_type": "markdown",
   "source": [
    "### Policy Iteration\n",
    "\n",
    "\n",
    "# Appendix\n",
    "\n",
    "## Transition Model"
   ],
   "metadata": {
    "collapsed": false,
    "pycharm": {
     "name": "#%% md\n"
    }
   }
  },
  {
   "cell_type": "code",
   "execution_count": 23,
   "outputs": [
    {
     "name": "stdout",
     "output_type": "stream",
     "text": [
      "\n",
      "Action = north\n",
      "     1    2    3    4    5    6    7    8    9    10   11   12   13   14   16\n",
      "1   1.0  0.0  0.0  0.0  0.0  0.0  0.0  0.0  0.0  0.0  0.0  0.0  0.0  0.0  0.0\n",
      "2   0.8  0.1  0.0  0.0  0.0  0.1  0.0  0.0  0.0  0.0  0.0  0.0  0.0  0.0  0.0\n",
      "3   0.0  0.8  0.1  0.0  0.0  0.0  0.1  0.0  0.0  0.0  0.0  0.0  0.0  0.0  0.0\n",
      "4   0.0  0.0  0.8  0.1  0.0  0.0  0.0  0.1  0.0  0.0  0.0  0.0  0.0  0.0  0.0\n",
      "5   0.1  0.0  0.0  0.0  0.8  0.0  0.0  0.0  0.1  0.0  0.0  0.0  0.0  0.0  0.0\n",
      "6   0.0  0.1  0.0  0.0  0.8  0.0  0.0  0.0  0.0  0.1  0.0  0.0  0.0  0.0  0.0\n",
      "7   0.0  0.0  0.0  0.0  0.0  0.0  1.0  0.0  0.0  0.0  0.0  0.0  0.0  0.0  0.0\n",
      "8   0.0  0.0  0.0  0.1  0.0  0.0  0.8  0.0  0.0  0.0  0.0  0.1  0.0  0.0  0.0\n",
      "9   0.0  0.0  0.0  0.0  0.1  0.0  0.0  0.0  0.8  0.0  0.0  0.0  0.1  0.0  0.0\n",
      "10  0.0  0.0  0.0  0.0  0.0  0.1  0.0  0.0  0.8  0.0  0.0  0.0  0.0  0.1  0.0\n",
      "11  0.0  0.0  0.0  0.0  0.0  0.0  0.1  0.0  0.0  0.8  0.1  0.0  0.0  0.0  0.0\n",
      "12  0.0  0.0  0.0  0.0  0.0  0.0  0.0  0.1  0.0  0.0  0.8  0.0  0.0  0.0  0.1\n",
      "13  0.0  0.0  0.0  0.0  0.0  0.0  0.0  0.0  0.0  0.0  0.0  0.0  1.0  0.0  0.0\n",
      "14  0.0  0.0  0.0  0.0  0.0  0.0  0.0  0.0  0.0  0.0  0.0  0.0  0.0  1.0  0.0\n",
      "16  0.0  0.0  0.0  0.0  0.0  0.0  0.0  0.0  0.0  0.0  0.0  0.1  0.0  0.0  0.9\n",
      "\n",
      "Action = east\n",
      "     1    2    3    4    5    6    7    8    9    10   11   12   13   14   16\n",
      "1   1.0  0.0  0.0  0.0  0.0  0.0  0.0  0.0  0.0  0.0  0.0  0.0  0.0  0.0  0.0\n",
      "2   0.1  0.0  0.1  0.0  0.0  0.8  0.0  0.0  0.0  0.0  0.0  0.0  0.0  0.0  0.0\n",
      "3   0.0  0.1  0.0  0.1  0.0  0.0  0.8  0.0  0.0  0.0  0.0  0.0  0.0  0.0  0.0\n",
      "4   0.0  0.0  0.1  0.1  0.0  0.0  0.0  0.8  0.0  0.0  0.0  0.0  0.0  0.0  0.0\n",
      "5   0.0  0.0  0.0  0.0  0.1  0.1  0.0  0.0  0.8  0.0  0.0  0.0  0.0  0.0  0.0\n",
      "6   0.0  0.0  0.0  0.0  0.1  0.0  0.1  0.0  0.0  0.8  0.0  0.0  0.0  0.0  0.0\n",
      "7   0.0  0.0  0.0  0.0  0.0  0.0  1.0  0.0  0.0  0.0  0.0  0.0  0.0  0.0  0.0\n",
      "8   0.0  0.0  0.0  0.0  0.0  0.0  0.1  0.1  0.0  0.0  0.0  0.8  0.0  0.0  0.0\n",
      "9   0.0  0.0  0.0  0.0  0.0  0.0  0.0  0.0  0.1  0.1  0.0  0.0  0.8  0.0  0.0\n",
      "10  0.0  0.0  0.0  0.0  0.0  0.0  0.0  0.0  0.1  0.0  0.1  0.0  0.0  0.8  0.0\n",
      "11  0.0  0.0  0.0  0.0  0.0  0.0  0.0  0.0  0.0  0.1  0.8  0.1  0.0  0.0  0.0\n",
      "12  0.0  0.0  0.0  0.0  0.0  0.0  0.0  0.0  0.0  0.0  0.1  0.1  0.0  0.0  0.8\n",
      "13  0.0  0.0  0.0  0.0  0.0  0.0  0.0  0.0  0.0  0.0  0.0  0.0  1.0  0.0  0.0\n",
      "14  0.0  0.0  0.0  0.0  0.0  0.0  0.0  0.0  0.0  0.0  0.0  0.0  0.0  1.0  0.0\n",
      "16  0.0  0.0  0.0  0.0  0.0  0.0  0.0  0.0  0.0  0.0  0.0  0.0  0.0  0.0  1.0\n",
      "\n",
      "Action = south\n",
      "     1    2    3    4    5    6    7    8    9    10   11   12   13   14   16\n",
      "1   1.0  0.0  0.0  0.0  0.0  0.0  0.0  0.0  0.0  0.0  0.0  0.0  0.0  0.0  0.0\n",
      "2   0.0  0.1  0.8  0.0  0.0  0.1  0.0  0.0  0.0  0.0  0.0  0.0  0.0  0.0  0.0\n",
      "3   0.0  0.0  0.1  0.8  0.0  0.0  0.1  0.0  0.0  0.0  0.0  0.0  0.0  0.0  0.0\n",
      "4   0.0  0.0  0.0  0.9  0.0  0.0  0.0  0.1  0.0  0.0  0.0  0.0  0.0  0.0  0.0\n",
      "5   0.1  0.0  0.0  0.0  0.0  0.8  0.0  0.0  0.1  0.0  0.0  0.0  0.0  0.0  0.0\n",
      "6   0.0  0.1  0.0  0.0  0.0  0.0  0.8  0.0  0.0  0.1  0.0  0.0  0.0  0.0  0.0\n",
      "7   0.0  0.0  0.0  0.0  0.0  0.0  1.0  0.0  0.0  0.0  0.0  0.0  0.0  0.0  0.0\n",
      "8   0.0  0.0  0.0  0.1  0.0  0.0  0.0  0.8  0.0  0.0  0.0  0.1  0.0  0.0  0.0\n",
      "9   0.0  0.0  0.0  0.0  0.1  0.0  0.0  0.0  0.0  0.8  0.0  0.0  0.1  0.0  0.0\n",
      "10  0.0  0.0  0.0  0.0  0.0  0.1  0.0  0.0  0.0  0.0  0.8  0.0  0.0  0.1  0.0\n",
      "11  0.0  0.0  0.0  0.0  0.0  0.0  0.1  0.0  0.0  0.0  0.1  0.8  0.0  0.0  0.0\n",
      "12  0.0  0.0  0.0  0.0  0.0  0.0  0.0  0.1  0.0  0.0  0.0  0.8  0.0  0.0  0.1\n",
      "13  0.0  0.0  0.0  0.0  0.0  0.0  0.0  0.0  0.0  0.0  0.0  0.0  1.0  0.0  0.0\n",
      "14  0.0  0.0  0.0  0.0  0.0  0.0  0.0  0.0  0.0  0.0  0.0  0.0  0.0  1.0  0.0\n",
      "16  0.0  0.0  0.0  0.0  0.0  0.0  0.0  0.0  0.0  0.0  0.0  0.1  0.0  0.0  0.9\n",
      "\n",
      "Action = west\n",
      "     1    2    3    4    5    6    7    8    9    10   11   12   13   14   16\n",
      "1   1.0  0.0  0.0  0.0  0.0  0.0  0.0  0.0  0.0  0.0  0.0  0.0  0.0  0.0  0.0\n",
      "2   0.1  0.8  0.1  0.0  0.0  0.0  0.0  0.0  0.0  0.0  0.0  0.0  0.0  0.0  0.0\n",
      "3   0.0  0.1  0.8  0.1  0.0  0.0  0.0  0.0  0.0  0.0  0.0  0.0  0.0  0.0  0.0\n",
      "4   0.0  0.0  0.1  0.9  0.0  0.0  0.0  0.0  0.0  0.0  0.0  0.0  0.0  0.0  0.0\n",
      "5   0.8  0.0  0.0  0.0  0.1  0.1  0.0  0.0  0.0  0.0  0.0  0.0  0.0  0.0  0.0\n",
      "6   0.0  0.8  0.0  0.0  0.1  0.0  0.1  0.0  0.0  0.0  0.0  0.0  0.0  0.0  0.0\n",
      "7   0.0  0.0  0.0  0.0  0.0  0.0  1.0  0.0  0.0  0.0  0.0  0.0  0.0  0.0  0.0\n",
      "8   0.0  0.0  0.0  0.8  0.0  0.0  0.1  0.1  0.0  0.0  0.0  0.0  0.0  0.0  0.0\n",
      "9   0.0  0.0  0.0  0.0  0.8  0.0  0.0  0.0  0.1  0.1  0.0  0.0  0.0  0.0  0.0\n",
      "10  0.0  0.0  0.0  0.0  0.0  0.8  0.0  0.0  0.1  0.0  0.1  0.0  0.0  0.0  0.0\n",
      "11  0.0  0.0  0.0  0.0  0.0  0.0  0.8  0.0  0.0  0.1  0.0  0.1  0.0  0.0  0.0\n",
      "12  0.0  0.0  0.0  0.0  0.0  0.0  0.0  0.8  0.0  0.0  0.1  0.1  0.0  0.0  0.0\n",
      "13  0.0  0.0  0.0  0.0  0.0  0.0  0.0  0.0  0.0  0.0  0.0  0.0  1.0  0.0  0.0\n",
      "14  0.0  0.0  0.0  0.0  0.0  0.0  0.0  0.0  0.0  0.0  0.0  0.0  0.0  1.0  0.0\n",
      "16  0.0  0.0  0.0  0.0  0.0  0.0  0.0  0.0  0.0  0.0  0.0  0.8  0.0  0.0  0.2\n"
     ]
    }
   ],
   "source": [
    "for i in range(len(actions)):\n",
    "\n",
    "    print('\\nAction = {}\\n{}'.format(actions[i], tm_matrices[i]))"
   ],
   "metadata": {
    "collapsed": false,
    "pycharm": {
     "name": "#%% code\n"
    }
   }
  },
  {
   "cell_type": "markdown",
   "source": [
    "## Reward Function"
   ],
   "metadata": {
    "collapsed": false,
    "pycharm": {
     "name": "#%% md\n"
    }
   }
  },
  {
   "cell_type": "code",
   "execution_count": 24,
   "outputs": [
    {
     "name": "stdout",
     "output_type": "stream",
     "text": [
      "\n",
      "Action = north\n",
      "      1     2     3     4     5     6     7     8     9     10    11    12  \\\n",
      "1   0.00  0.00  0.00  0.00  0.00  0.00  0.00  0.00  0.00  0.00  0.00  0.00   \n",
      "2  -1.04 -0.04  0.00  0.00  0.00 -0.04  0.00  0.00  0.00  0.00  0.00  0.00   \n",
      "3   0.00 -0.04 -0.04  0.00  0.00  0.00 -1.04  0.00  0.00  0.00  0.00  0.00   \n",
      "4   0.00  0.00 -0.04 -0.04  0.00  0.00  0.00 -0.04  0.00  0.00  0.00  0.00   \n",
      "5  -1.04  0.00  0.00  0.00 -0.04  0.00  0.00  0.00 -0.04  0.00  0.00  0.00   \n",
      "6   0.00 -0.04  0.00  0.00 -0.04  0.00  0.00  0.00  0.00 -0.04  0.00  0.00   \n",
      "7   0.00  0.00  0.00  0.00  0.00  0.00  0.00  0.00  0.00  0.00  0.00  0.00   \n",
      "8   0.00  0.00  0.00 -0.04  0.00  0.00 -1.04  0.00  0.00  0.00  0.00 -0.04   \n",
      "9   0.00  0.00  0.00  0.00 -0.04  0.00  0.00  0.00 -0.04  0.00  0.00  0.00   \n",
      "10  0.00  0.00  0.00  0.00  0.00 -0.04  0.00  0.00 -0.04  0.00  0.00  0.00   \n",
      "11  0.00  0.00  0.00  0.00  0.00  0.00 -1.04  0.00  0.00 -0.04 -0.04  0.00   \n",
      "12  0.00  0.00  0.00  0.00  0.00  0.00  0.00 -0.04  0.00  0.00 -0.04  0.00   \n",
      "13  0.00  0.00  0.00  0.00  0.00  0.00  0.00  0.00  0.00  0.00  0.00  0.00   \n",
      "14  0.00  0.00  0.00  0.00  0.00  0.00  0.00  0.00  0.00  0.00  0.00  0.00   \n",
      "16  0.00  0.00  0.00  0.00  0.00  0.00  0.00  0.00  0.00  0.00  0.00 -0.04   \n",
      "\n",
      "      13    14    16  \n",
      "1   0.00  0.00  0.00  \n",
      "2   0.00  0.00  0.00  \n",
      "3   0.00  0.00  0.00  \n",
      "4   0.00  0.00  0.00  \n",
      "5   0.00  0.00  0.00  \n",
      "6   0.00  0.00  0.00  \n",
      "7   0.00  0.00  0.00  \n",
      "8   0.00  0.00  0.00  \n",
      "9   0.96  0.00  0.00  \n",
      "10  0.00 -1.04  0.00  \n",
      "11  0.00  0.00  0.00  \n",
      "12  0.00  0.00 -0.04  \n",
      "13  0.00  0.00  0.00  \n",
      "14  0.00  0.00  0.00  \n",
      "16  0.00  0.00 -0.04  \n",
      "\n",
      "Action = east\n",
      "      1     2     3     4     5     6     7     8     9     10    11    12  \\\n",
      "1   0.00  0.00  0.00  0.00  0.00  0.00  0.00  0.00  0.00  0.00  0.00  0.00   \n",
      "2  -1.04  0.00 -0.04  0.00  0.00 -0.04  0.00  0.00  0.00  0.00  0.00  0.00   \n",
      "3   0.00 -0.04  0.00 -0.04  0.00  0.00 -1.04  0.00  0.00  0.00  0.00  0.00   \n",
      "4   0.00  0.00 -0.04 -0.04  0.00  0.00  0.00 -0.04  0.00  0.00  0.00  0.00   \n",
      "5   0.00  0.00  0.00  0.00 -0.04 -0.04  0.00  0.00 -0.04  0.00  0.00  0.00   \n",
      "6   0.00  0.00  0.00  0.00 -0.04  0.00 -1.04  0.00  0.00 -0.04  0.00  0.00   \n",
      "7   0.00  0.00  0.00  0.00  0.00  0.00  0.00  0.00  0.00  0.00  0.00  0.00   \n",
      "8   0.00  0.00  0.00  0.00  0.00  0.00 -1.04 -0.04  0.00  0.00  0.00 -0.04   \n",
      "9   0.00  0.00  0.00  0.00  0.00  0.00  0.00  0.00 -0.04 -0.04  0.00  0.00   \n",
      "10  0.00  0.00  0.00  0.00  0.00  0.00  0.00  0.00 -0.04  0.00 -0.04  0.00   \n",
      "11  0.00  0.00  0.00  0.00  0.00  0.00  0.00  0.00  0.00 -0.04 -0.04 -0.04   \n",
      "12  0.00  0.00  0.00  0.00  0.00  0.00  0.00  0.00  0.00  0.00 -0.04 -0.04   \n",
      "13  0.00  0.00  0.00  0.00  0.00  0.00  0.00  0.00  0.00  0.00  0.00  0.00   \n",
      "14  0.00  0.00  0.00  0.00  0.00  0.00  0.00  0.00  0.00  0.00  0.00  0.00   \n",
      "16  0.00  0.00  0.00  0.00  0.00  0.00  0.00  0.00  0.00  0.00  0.00  0.00   \n",
      "\n",
      "      13    14    16  \n",
      "1   0.00  0.00  0.00  \n",
      "2   0.00  0.00  0.00  \n",
      "3   0.00  0.00  0.00  \n",
      "4   0.00  0.00  0.00  \n",
      "5   0.00  0.00  0.00  \n",
      "6   0.00  0.00  0.00  \n",
      "7   0.00  0.00  0.00  \n",
      "8   0.00  0.00  0.00  \n",
      "9   0.96  0.00  0.00  \n",
      "10  0.00 -1.04  0.00  \n",
      "11  0.00  0.00  0.00  \n",
      "12  0.00  0.00 -0.04  \n",
      "13  0.00  0.00  0.00  \n",
      "14  0.00  0.00  0.00  \n",
      "16  0.00  0.00 -0.04  \n",
      "\n",
      "Action = south\n",
      "      1     2     3     4     5     6     7     8     9     10    11    12  \\\n",
      "1   0.00  0.00  0.00  0.00  0.00  0.00  0.00  0.00  0.00  0.00  0.00  0.00   \n",
      "2   0.00 -0.04 -0.04  0.00  0.00 -0.04 -1.04  0.00  0.00  0.00  0.00  0.00   \n",
      "3   0.00  0.00 -0.04 -0.04  0.00  0.00  0.00  0.00  0.00  0.00  0.00  0.00   \n",
      "4   0.00  0.00  0.00 -0.04  0.00  0.00  0.00 -0.04  0.00  0.00  0.00  0.00   \n",
      "5  -1.04  0.00  0.00  0.00  0.00 -0.04  0.00  0.00 -0.04  0.00  0.00  0.00   \n",
      "6   0.00 -0.04  0.00  0.00  0.00  0.00 -1.04  0.00  0.00 -0.04  0.00  0.00   \n",
      "7   0.00  0.00  0.00  0.00  0.00  0.00  0.00  0.00  0.00  0.00  0.00  0.00   \n",
      "8   0.00  0.00  0.00 -0.04  0.00  0.00  0.00 -0.04  0.00  0.00  0.00 -0.04   \n",
      "9   0.00  0.00  0.00  0.00 -0.04  0.00  0.00  0.00  0.00 -0.04  0.00  0.00   \n",
      "10  0.00  0.00  0.00  0.00  0.00 -0.04  0.00  0.00  0.00  0.00 -0.04  0.00   \n",
      "11  0.00  0.00  0.00  0.00  0.00  0.00 -1.04  0.00  0.00  0.00 -0.04 -0.04   \n",
      "12  0.00  0.00  0.00  0.00  0.00  0.00  0.00 -0.04  0.00  0.00  0.00 -0.04   \n",
      "13  0.00  0.00  0.00  0.00  0.00  0.00  0.00  0.00  0.00  0.00  0.00  0.00   \n",
      "14  0.00  0.00  0.00  0.00  0.00  0.00  0.00  0.00  0.00  0.00  0.00  0.00   \n",
      "16  0.00  0.00  0.00  0.00  0.00  0.00  0.00  0.00  0.00  0.00  0.00 -0.04   \n",
      "\n",
      "      13    14    16  \n",
      "1   0.00  0.00  0.00  \n",
      "2   0.00  0.00  0.00  \n",
      "3   0.00  0.00  0.00  \n",
      "4   0.00  0.00  0.00  \n",
      "5   0.00  0.00  0.00  \n",
      "6   0.00  0.00  0.00  \n",
      "7   0.00  0.00  0.00  \n",
      "8   0.00  0.00  0.00  \n",
      "9   0.96  0.00  0.00  \n",
      "10  0.00 -1.04  0.00  \n",
      "11  0.00  0.00  0.00  \n",
      "12  0.00  0.00 -0.04  \n",
      "13  0.00  0.00  0.00  \n",
      "14  0.00  0.00  0.00  \n",
      "16  0.00  0.00 -0.04  \n",
      "\n",
      "Action = west\n",
      "      1     2     3     4     5     6     7     8     9     10    11    12  \\\n",
      "1   0.00  0.00  0.00  0.00  0.00  0.00  0.00  0.00  0.00  0.00  0.00  0.00   \n",
      "2  -1.04 -0.04 -0.04  0.00  0.00  0.00  0.00  0.00  0.00  0.00  0.00  0.00   \n",
      "3   0.00 -0.04 -0.04 -0.04  0.00  0.00  0.00  0.00  0.00  0.00  0.00  0.00   \n",
      "4   0.00  0.00 -0.04 -0.04  0.00  0.00  0.00  0.00  0.00  0.00  0.00  0.00   \n",
      "5  -1.04  0.00  0.00  0.00 -0.04 -0.04  0.00  0.00  0.00  0.00  0.00  0.00   \n",
      "6   0.00 -0.04  0.00  0.00 -0.04  0.00 -1.04  0.00  0.00  0.00  0.00  0.00   \n",
      "7   0.00  0.00  0.00  0.00  0.00  0.00  0.00  0.00  0.00  0.00  0.00  0.00   \n",
      "8   0.00  0.00  0.00 -0.04  0.00  0.00 -1.04 -0.04  0.00  0.00  0.00  0.00   \n",
      "9   0.00  0.00  0.00  0.00 -0.04  0.00  0.00  0.00 -0.04 -0.04  0.00  0.00   \n",
      "10  0.00  0.00  0.00  0.00  0.00 -0.04  0.00  0.00 -0.04  0.00 -0.04  0.00   \n",
      "11  0.00  0.00  0.00  0.00  0.00  0.00 -1.04  0.00  0.00 -0.04  0.00 -0.04   \n",
      "12  0.00  0.00  0.00  0.00  0.00  0.00  0.00 -0.04  0.00  0.00 -0.04 -0.04   \n",
      "13  0.00  0.00  0.00  0.00  0.00  0.00  0.00  0.00  0.00  0.00  0.00  0.00   \n",
      "14  0.00  0.00  0.00  0.00  0.00  0.00  0.00  0.00  0.00  0.00  0.00  0.00   \n",
      "16  0.00  0.00  0.00  0.00  0.00  0.00  0.00  0.00  0.00  0.00  0.00 -0.04   \n",
      "\n",
      "     13   14    16  \n",
      "1   0.0  0.0  0.00  \n",
      "2   0.0  0.0  0.00  \n",
      "3   0.0  0.0  0.00  \n",
      "4   0.0  0.0  0.00  \n",
      "5   0.0  0.0  0.00  \n",
      "6   0.0  0.0  0.00  \n",
      "7   0.0  0.0  0.00  \n",
      "8   0.0  0.0  0.00  \n",
      "9   0.0  0.0  0.00  \n",
      "10  0.0  0.0  0.00  \n",
      "11  0.0  0.0  0.00  \n",
      "12  0.0  0.0  0.00  \n",
      "13  0.0  0.0  0.00  \n",
      "14  0.0  0.0  0.00  \n",
      "16  0.0  0.0 -0.04  \n"
     ]
    }
   ],
   "source": [
    "for i in range(len(actions)):\n",
    "\n",
    "    print('\\nAction = {}\\n{}'.format(actions[i], reward_matrices[i]))"
   ],
   "metadata": {
    "collapsed": false,
    "pycharm": {
     "name": "#%% code\n"
    }
   }
  }
 ],
 "metadata": {
  "kernelspec": {
   "display_name": "Python 3",
   "language": "python",
   "name": "python3"
  },
  "language_info": {
   "codemirror_mode": {
    "name": "ipython",
    "version": 2
   },
   "file_extension": ".py",
   "mimetype": "text/x-python",
   "name": "python",
   "nbconvert_exporter": "python",
   "pygments_lexer": "ipython2",
   "version": "2.7.6"
  }
 },
 "nbformat": 4,
 "nbformat_minor": 0
}