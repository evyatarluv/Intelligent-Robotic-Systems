{
 "cells": [
  {
   "cell_type": "markdown",
   "source": [
    "1. Calculation of Kalman filter steps\n",
    "\n",
    "I first show all the calculations I did and then I\n",
    "will present the full filled table.\n",
    "\n",
    "The initial belief is:\n",
    "\n",
    "\\begin{equation}\n",
    "\\mu_0 = 2, \\Sigma_0 = 5\n",
    "\\end{equation}\n",
    "\n",
    "\n",
    "Since the using system's dynamic model is constant:\n",
    "\\begin{equation}\n",
    "\\bar{\\mu}_1 = \\mu_0 = 2, \n",
    "\\end{equation}\n",
    "\n",
    "\n",
    "\n"
   ],
   "metadata": {
    "collapsed": false,
    "pycharm": {
     "name": "#%% md\n"
    }
   }
  },
  {
   "cell_type": "code",
   "execution_count": null,
   "metadata": {
    "collapsed": true
   },
   "outputs": [],
   "source": []
  }
 ],
 "metadata": {
  "kernelspec": {
   "display_name": "Python 3",
   "language": "python",
   "name": "python3"
  },
  "language_info": {
   "codemirror_mode": {
    "name": "ipython",
    "version": 2
   },
   "file_extension": ".py",
   "mimetype": "text/x-python",
   "name": "python",
   "nbconvert_exporter": "python",
   "pygments_lexer": "ipython2",
   "version": "2.7.6"
  }
 },
 "nbformat": 4,
 "nbformat_minor": 0
}