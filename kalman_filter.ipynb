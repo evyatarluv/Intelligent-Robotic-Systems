{
 "cells": [
  {
   "cell_type": "markdown",
   "source": [
    "# Calculation of Kalman filter steps\n",
    "\n",
    "## Calculation of 2 Kalman filter steps\n",
    "\n",
    "I first show all the calculations I did and then I\n",
    "will present the full requested table.\n",
    "\n",
    "From the motion equation:\n",
    "\n",
    "$$x_k = x_{k-1} + \\epsilon_t \\quad \\textrm{with} \\quad \\epsilon_t=\\mathcal{N}(0,2)$$\n",
    "\n",
    "we can derive $r^2=2$.\n",
    "\n",
    "Additionally, from the measurement equation:\n",
    "\n",
    "$$z_k = x_{k} + \\delta_t \\quad \\textrm{with} \\quad \\delta_t=\\mathcal{N}(0,3)$$\n",
    "\n",
    "we can derive $q^2=3$.\n",
    "\n",
    "In addition, we were given that the initial belief is:\n",
    "\n",
    "$$\\mu_0 = 2, \\quad \\Sigma_0=5$$\n",
    "\n",
    "Now we can move to calculate each step of the Kalman filter steps. For each\n",
    "iteration we calculated the prediction, Kalman gain and measurement update.\n",
    "\n",
    "> **Iteration 1 ($k=1$)** <br>\n",
    ">\n",
    "> _Prediction:_\n",
    ">\n",
    "> $$\\bar{\\mu}_1=\\mu_0=2, \\quad \\bar{\\Sigma}_1=\\Sigma_0 + r^2=7$$\n",
    ">\n",
    "> _Kalman Gain:_\n",
    ">\n",
    "> $$K_1 = \\frac{\\bar{\\Sigma}_1}{\\bar{\\Sigma}_1 + q^2} = 0.7$$\n",
    ">\n",
    "> _Measurement Update:_\n",
    ">\n",
    "> $$\\mu_1 = \\bar{\\mu}_1 + K_1(z_1 - \\bar{\\mu}_1) = 1.3$$\n",
    ">\n",
    "> $$\\Sigma_1 = (1 - K_1)\\bar{\\Sigma}_1 = 2.1$$\n",
    "\n",
    "> **Iteration 2 ($k=2$)** <br>\n",
    ">\n",
    "> _Prediction:_\n",
    ">\n",
    "> $$\\bar{\\mu}_2 = \\mu_1 = 1.3, \\quad \\bar{\\Sigma}_2 = \\Sigma_1 + r^2 = 4.1$$\n",
    ">\n",
    "> _Kalman Gain:_\n",
    ">\n",
    "> $$K_2 = \\frac{\\bar{\\Sigma}_2}{\\bar{\\Sigma}_2 + q^2} = 0.5775$$\n",
    ">\n",
    "> _Measurement Update:_\n",
    ">\n",
    "> $$\\mu_2 = \\bar{\\mu}_2 + K_2(z_2 - \\bar{\\mu}_2) = 1.7042$$\n",
    ">\n",
    "> $$\\Sigma_2 = (1 - K_2)\\bar{\\Sigma}_2 = 1.7322$$\n",
    "\n",
    "And in conclusion the full table:\n",
    "\n",
    "| k   | $\\bar{\\mu}_k$ | $\\bar{\\Sigma}_k$  | $K_k$ | $\\mu_k$ | $\\Sigma_k$ |\n",
    "| :-: |:-------------:| :----------------:| :------:| :-----: | :--------: |\n",
    "| 1   | 2             | 7                 | 0.7     | 1.3     | 2.1        |\n",
    "| 2   | 1.3           | 4.1               | 0.5775  | 1.7042  | 1.7322   |\n",
    "\n",
    "## Parameters Explanation\n",
    "\n",
    "* $\\bar{\\mu}_k$: The prediction of the position in step $k$. The predicted position is done with the motion equations.\n",
    "\n",
    "* $\\bar{\\Sigma}_k$: The prediction uncertainty of step $k$. Calculated by the\n",
    " uncertainty of the previous step plus the noise of motion.\n",
    "\n",
    "* $K_k$: Kalman gain of step $k$. The Kalman gain calculates by the uncertainty of\n",
    " the estimation divided by the sum of uncertainty of estimation and measurement.\n",
    " This mean the Kalman gain is a number between 0 to 1. When the measurement uncertainty is very large and the estimate uncertainty is very small, the Kalman Gain is close to zero. Hence we give a big weight to the estimate and a small weight to the measurement.\n",
    " On the other side, when the measurement uncertainty is very small and the estimate uncertainty is very large, the Kalman Gain is close to one. Hence we give a small weight to the estimate and a big weight to the measurement.\n",
    "\n",
    "* $\\mu_k$: The updated prediction of the location in step $k$. The $\\mu_k$ combining the estimation with the measurement using the Kalman gain.\n",
    "\n",
    "* $\\Sigma_k$: The updated uncertainty in step $k$ after using the Kalman gain in order to decrease the noise.\n",
    "\n",
    "## Steady-State Covariance\n",
    "\n",
    "Now we compute $\\Sigma_{\\infty}$ in our problem conditions:\n",
    "\n",
    "$$\\Sigma_k = (1 - K_k) \\bar{\\Sigma}_k = (1 - \\frac{\\bar{\\Sigma}_k}{\\bar{\\Sigma}_k + q^2})\\bar{\\Sigma}_k  = \\frac{q^2\\bar{\\Sigma}_k}{\\bar{\\Sigma}_k + q^2}$$\n",
    "\n",
    "We know $\\bar{\\Sigma}_k = \\Sigma_{k-1} +r^2$ but when $k\\to\\infty$ we can assume $\\Sigma_k = \\Sigma_{k-1}$.\n",
    "Which mean $\\bar{\\Sigma}_k = \\Sigma_k + r^2$. Now:\n",
    "\n",
    "$$\\Sigma_k = \\frac{q^2(\\Sigma_k + r^2)}{\\Sigma_k + r^2 + q^2}$$ <br>\n",
    "$$\\Downarrow$$ <br>\n",
    "$${\\Sigma_k}^2 + \\Sigma_k r^2 - q^2 r^2 = 0$$\n",
    "\n",
    "Using the given $r^2=2$ and $q^2=3$ we got ${\\Sigma_k}^2 + 2\\Sigma_k - 6 = 0$.\n",
    "We found:\n",
    "\n",
    "$$\\Sigma_k = -3.645; \\quad \\Sigma_k = 1.645$$\n",
    "\n",
    "Since $\\Sigma_k > 0$ we got:\n",
    "\n",
    "$$\\Sigma_{\\infty} = 1.645$$\n",
    "\n",
    "\n",
    "# Localization of a mobile robot using a Kalman Filter\n",
    "\n",
    "## Matrices & Functions\n",
    "\n",
    "From looking at the deterministic discrete dynamics of the robot it seen that the\n",
    "dynamics are non-linear. The Extended Kalman Filter (EKF) solving the non-linearity issue.\n",
    "So, instead of $A$ and $B$ matrices in the linear case it was needed\n",
    "to find $g(u_t, x_{t-1})$, where:\n",
    "\n",
    "$$ x_t = g(u_t, x_{t-1}) + \\epsilon_t, \\quad \\epsilon_t=\\mathcal{N}(0, R_t)$$\n",
    "\n",
    "The state vector $x_t$ defined as $(x \\quad y \\quad \\theta)^T$ and the control\n",
    "vector $u_t$ defined as $(v_t \\quad \\omega_t)^T$. Using the given dynamic equations we got:\n",
    "\n",
    "$$g(u_t, x_{t-1}) \\approx g(u_t, \\mu_{t-1}) + G_t\n",
    "\\begin{pmatrix}\n",
    "\\mu_{t-1, x} + v_t cos(\\mu_{t-1, \\theta} + \\omega_t \\Delta t) \\\\\n",
    "\\mu_{t-1, y} + v_t sin(\\mu_{t-1, \\theta} + \\omega_t \\Delta t) \\\\\n",
    "\\mu_{t-1, \\theta} + \\omega \\Delta t\n",
    "\\end{pmatrix} +G_t$$\n",
    "\n",
    "In order to find $x_t$ the EKF algorithm make use of local linearization. So the follows\n",
    "$G_t$ matrix was needed:\n",
    "\n",
    "$$G_t = \\frac{\\partial g(u_t, x_{t-1})}{\\partial x_{t-1}}\\mid_{x_{t-1} = \\mu_{t-1}}$$\n",
    "\n",
    "Using the above-mentioned definition we got:\n",
    "\n",
    "$$G_t =\n",
    "\\begin{pmatrix}\n",
    "1 & 0 & -v_t sin(\\mu_{t-1, \\theta} + \\omega_t \\Delta t) \\\\\n",
    "0 & 1 & v_t cos(\\mu_{t-1, \\theta} + \\omega_t \\Delta t) \\\\\n",
    "0 & 0 & 1\n",
    "\\end{pmatrix}$$\n",
    "\n",
    "The same procedure was needed for the measurement update. First we needed non-linear function\n",
    "$h(x_t)$ so that:\n",
    "\n",
    "$$z_t = h(x_t) + \\delta_t, \\quad \\delta_t=\\mathcal{N}(0, Q_t)$$\n",
    "\n",
    "As required in the exercise the measurements\n",
    "were distance and direction to a landmark with fixed coordinates $m_x$ and $m_y$.\n",
    "So, the $h(x_t)$ function which map from given state $x_t$ to measurement $z_t$ is:\n",
    "\n",
    "$$h(x_t, m) =\n",
    "\\begin{pmatrix}\n",
    "\\sqrt{(m_x - x)^2 + (m_y - y)^2}\\\\\n",
    "\\operatorname{atan2}(m_y - y, m_x - x) - \\theta \\\\\n",
    "\\end{pmatrix}$$\n",
    "\n",
    "where $\\operatorname{atan2}$ function defined as:\n",
    "\n",
    "$$\\operatorname{atan2}(y,x) =\n",
    "\\begin{cases}\n",
    "\\arctan\\left(\\frac{y}{x}\\right) &\\text{if } x > 0, \\\\\n",
    "\\frac{\\pi}{2} - \\arctan\\left(\\frac{x}{y}\\right) &\\text{if } y > 0, \\\\\n",
    "-\\frac{\\pi}{2} - \\arctan\\left(\\frac{x}{y}\\right) &\\text{if } y < 0, \\\\\n",
    "\\arctan\\left(\\frac{y}{x}\\right) \\pm \\pi &\\text{if } x < 0, \\\\\n",
    "\\text{undefined} &\\text{if } x = 0 \\text{ and } y = 0.\n",
    "\\end{cases}$$\n",
    "\n",
    "The linear approximation is now:\n",
    "\n",
    "$$h(x_t, m) \\approx h(\\bar{\\mu}, m) + H_t$$\n",
    "\n",
    "\n",
    "The $H_t$ matrix was calculated as:\n",
    "\n",
    "$$H_t = \\frac{\\partial h(x_t)}{\\partial x_t}\\mid_{x_t = \\mu_t}$$\n",
    "\n",
    ",hence:\n",
    "\n",
    "$$H_t =\n",
    "\\begin{pmatrix}\n",
    "\\frac{m_x - \\bar{\\mu}_{t, x}}{\\sqrt{q}} & \\frac{\\bar{\\mu}_{t, y} - m_y}{\\sqrt{q}} & 0 \\\\\n",
    "\\frac{m_y - \\bar{\\mu}_{t, y}}{q} & \\frac{m_x - \\bar{\\mu}_{t, x}}{q} & -1\n",
    "\\end{pmatrix}$$\n",
    "\n",
    "where $q=(m_x - \\bar{\\mu}_{t, x})^2 + (m_y - \\bar{\\mu}_{t, y})^2$.\n",
    "\n",
    "Now we only need the matrices $R_t$ and $Q_t$ in order to have all the\n",
    "matrices and function EKF requires. The variance of the sensor's noise\n",
    "was given in the exercise, so the covariance matrix of the measurement\n",
    "noise is:\n",
    "\n",
    "$$Q_t =\n",
    "\\begin{pmatrix}\n",
    "\\sigma_r^2 & 0\\\\\n",
    "0 & \\sigma_\\phi^2 \\\\\n",
    "\\end{pmatrix}$$\n",
    "\n",
    "where $r$ and $phi$ are the distance and direction to the landmark respectively.\n",
    "$Q_t$ was construct while assuming $r$ and $\\phi$ are independent measurements.\n",
    "\n",
    "For constructing $R_t$ matrix I used the following equation:\n",
    "\n",
    "$$R_t = V_t M_t V_t^T$$\n",
    "\n",
    "where $V_t=\\frac{\\partial F(x_t,u_t)}{\\partial u_t}$, $F$ is the dynamics\n",
    "and $M_t$ is the covariance matrix of the control. Assuming the controls\n",
    "$v$ and $\\omega$ are independent we got:\n",
    "\n",
    "$$M_t =\n",
    "\\begin{pmatrix}\n",
    "\\sigma_v^2 & 0\\\\\n",
    "0 & \\sigma_\\omega^2 \\\\\n",
    "\\end{pmatrix}$$\n",
    "\n",
    "Derivation of the dynamics by the control got us the following $V_t$:\n",
    "\n",
    "$$V_t =\n",
    "\\begin{pmatrix}\n",
    "cos(\\bar{\\mu}_{t, \\theta} + \\omega_t \\Delta t) & -v_t sin(\\bar{\\mu}_{t, \\theta} + \\omega_t \\Delta t) \\Delta t \\\\\n",
    "sin(\\bar{\\mu}_{t, \\theta} + \\omega_t \\Delta t) & v_t cos(\\bar{\\mu}_{t, \\theta} + \\omega_t \\Delta t) \\Delta t \\\\\n",
    "0 & \\Delta t\n",
    "\\end{pmatrix}$$\n",
    "\n",
    "Now we got all the required matrices in order to compute $R_t$ matrix.\n",
    "The calculation of the matrix was in the relevant part in the code.\n",
    "\n",
    "By using the described functions $g(u_t, x_{t-1})$ and $h(x_t)$\n",
    "next to the matrices $G_t$, $H_t$, $R_t$ and $Q_t$ we got everything\n",
    "requires in order to implement EKF algorithm.\n",
    "\n",
    "## Measurements & Ground-Truth Figures\n",
    "\n",
    "First I loaded the data as dictionary with three keys: `measurements`, `controls` and\n",
    "`ground_truth`. The value of each key is the corresponded data frame. In order to make\n",
    "the report more readable I only call functions which plot the required figures. All these\n",
    "function can be found in `figures.py`."
   ],
   "metadata": {
    "collapsed": false,
    "pycharm": {
     "name": "#%% md\n"
    }
   }
  },
  {
   "cell_type": "code",
   "execution_count": 1,
   "outputs": [
    {
     "data": {
      "text/plain": "<Figure size 640x480 with 3 Axes>"
     },
     "metadata": {},
     "output_type": "display_data"
    }
   ],
   "source": [
    "from main import load_data, data_params\n",
    "from figures import *\n",
    "\n",
    "data = load_data(data_params['paths'], data_params['columns'])\n",
    "\n",
    "subplots(ground_truth=data['ground_truth'])"
   ],
   "metadata": {
    "collapsed": false,
    "pycharm": {
     "name": "#%%\n"
    }
   }
  },
  {
   "cell_type": "markdown",
   "source": [
    "All the graphs share the same x-axis (time) and we can see the ground-truth of the robot splitted\n",
    "into x, y and $\\theta$.\n",
    "\n",
    "And now for the robot XY motion:"
   ],
   "metadata": {
    "collapsed": false
   }
  },
  {
   "cell_type": "code",
   "execution_count": 2,
   "outputs": [
    {
     "data": {
      "text/plain": "<Figure size 432x288 with 1 Axes>",
      "image/png": "[encoded data removed]"
     },
     "metadata": {
      "needs_background": "light"
     },
     "output_type": "display_data"
    }
   ],
   "source": [
    "xy_path(ground_truth=data['ground_truth'])"
   ],
   "metadata": {
    "collapsed": false,
    "pycharm": {
     "name": "#%%\n"
    }
   }
  },
  {
   "cell_type": "markdown",
   "source": [
    "Great move of the robot!\n",
    "\n",
    "## Measurements Reconstruction\n",
    "\n",
    "In order to reconstruct the $[x, y]$ coordinates of the robot using the measurements\n",
    "I used the following equations:\n",
    "\n",
    "$$x = r + cos(\\pi + \\phi + \\theta) + m_x, \\quad y = r + sin(\\pi + \\phi + \\theta) + m_y$$\n",
    "\n",
    "And 'Figure 2' with the measurements turn to be:"
   ],
   "metadata": {
    "collapsed": false
   }
  },
  {
   "cell_type": "code",
   "execution_count": 3,
   "outputs": [
    {
     "data": {
      "text/plain": "<Figure size 432x288 with 1 Axes>",
      "image/png": "[encoded data removed]"
     },
     "metadata": {
      "needs_background": "light"
     },
     "output_type": "display_data"
    }
   ],
   "source": [
    "# Figure 2 with measurements\n",
    "xy_path(ground_truth=data['ground_truth'],\n",
    "         measurements=data['measurements'])\n"
   ],
   "metadata": {
    "collapsed": false,
    "pycharm": {
     "name": "#%%\n"
    }
   }
  },
  {
   "cell_type": "markdown",
   "source": [
    "The measurements look with some bias in the y-axis. I recheck it by adding the measurements to the $[x, y, \\theta]$\n",
    "plots and see how the $y$ measurements look like:\n"
   ],
   "metadata": {
    "collapsed": false,
    "pycharm": {
     "name": "#%% md\n"
    }
   }
  },
  {
   "cell_type": "code",
   "execution_count": null,
   "outputs": [],
   "source": [
    "subplots(ground_truth=data['ground_truth'],\n",
    "         measurements=data['measurements'])"
   ],
   "metadata": {
    "collapsed": false,
    "pycharm": {
     "name": "#%%\n"
    }
   }
  },
  {
   "cell_type": "markdown",
   "source": [
    "All the y points are under the real motion, so it definitely look\n",
    "like there is a bias on the y-axis.\n"
   ],
   "metadata": {
    "collapsed": false
   }
  }
 ],
 "metadata": {
  "kernelspec": {
   "display_name": "Python 3",
   "language": "python",
   "name": "python3"
  },
  "language_info": {
   "codemirror_mode": {
    "name": "ipython",
    "version": 2
   },
   "file_extension": ".py",
   "mimetype": "text/x-python",
   "name": "python",
   "nbconvert_exporter": "python",
   "pygments_lexer": "ipython2",
   "version": "2.7.6"
  }
 },
 "nbformat": 4,
 "nbformat_minor": 0
}