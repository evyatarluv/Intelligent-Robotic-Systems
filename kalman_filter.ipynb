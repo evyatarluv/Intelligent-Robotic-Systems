{
 "cells": [
  {
   "cell_type": "markdown",
   "source": [
    "Calculation of Kalman filter steps\n",
    "\n",
    "I first show all the calculations I did and then I\n",
    "will present the full requested table.\n",
    "\n",
    "From the motion equation:\n",
    "\n",
    "$$x_k = x_{k-1} + \\epsilon_t \\quad \\textrm{with} \\quad \\epsilon_t=\\mathcal{N}(0,2)$$\n",
    "\n",
    "we can derive $r^2=2$.\n",
    "\n",
    "Additionally, from the measurement equation:\n",
    "\n",
    "$$z_k = x_{k} + \\delta_t \\quad \\textrm{with} \\quad \\delta_t=\\mathcal{N}(0,3)$$\n",
    "\n",
    "we can derive $q^2=3$.\n",
    "\n",
    "The initial belief is:\n",
    "\n",
    "\\begin{equation}\n",
    "\\mu_0 = 2, \\Sigma_0 = 5\n",
    "\\end{equation}\n",
    "\n",
    "First we start with the predict step:\n",
    "\n",
    "\\begin{equation}\n",
    "\\bar{\\mu}_1 = \\mu_0 = 2\\\\\n",
    "\\bar{\\Sigma}_1 = \\Sigma_0 + r^2 = 5 + 2 = 7\n",
    "\\end{equation}\n",
    "\n",
    "Next we continue with the Kalman gain:\n",
    "\n",
    "\\begin{equation}\n",
    "K_1 = \\frac{\\bar{\\Sigma}_1}{\\bar{\\Sigma}_1 + \\sigma_2}\n",
    "\\end{equation}\n",
    "\n",
    "\n"
   ],
   "metadata": {
    "collapsed": false,
    "pycharm": {
     "name": "#%% md\n"
    }
   }
  },
  {
   "cell_type": "code",
   "execution_count": null,
   "metadata": {
    "collapsed": true
   },
   "outputs": [],
   "source": []
  }
 ],
 "metadata": {
  "kernelspec": {
   "display_name": "Python 3",
   "language": "python",
   "name": "python3"
  },
  "language_info": {
   "codemirror_mode": {
    "name": "ipython",
    "version": 2
   },
   "file_extension": ".py",
   "mimetype": "text/x-python",
   "name": "python",
   "nbconvert_exporter": "python",
   "pygments_lexer": "ipython2",
   "version": "2.7.6"
  }
 },
 "nbformat": 4,
 "nbformat_minor": 0
}