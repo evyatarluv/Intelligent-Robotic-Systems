{
 "cells": [
  {
   "cell_type": "markdown",
   "source": [
    "Calculation of Kalman filter steps\n",
    "\n",
    "I first show all the calculations I did and then I\n",
    "will present the full requested table.\n",
    "\n",
    "From the motion equation:\n",
    "\n",
    "$$x_k = x_{k-1} + \\epsilon_t \\quad \\textrm{with} \\quad \\epsilon_t=\\mathcal{N}(0,2)$$\n",
    "\n",
    "we can derive $r^2=2$.\n",
    "\n",
    "Additionally, from the measurement equation:\n",
    "\n",
    "$$z_k = x_{k} + \\delta_t \\quad \\textrm{with} \\quad \\delta_t=\\mathcal{N}(0,3)$$\n",
    "\n",
    "we can derive $q^2=3$.\n",
    "\n",
    "In addition, we were given that the initial belief is:\n",
    "\n",
    "$$\\mu_0 = 2, \\quad \\Sigma_0=5$$\n",
    "\n",
    "Now we can move to calculate each step of the Kalman filter steps. For each\n",
    "iteration we calculated the prediction, Kalman gain and measurement update.\n",
    "\n",
    "> #### Iteration 1 ($k=1$)\n",
    ">\n",
    "> _Prediction:_\n",
    ">\n",
    "> $$\\bar{\\mu}_1=\\mu_0=2, \\quad \\bar{\\Sigma}_1=\\Sigma_0 + r^2=7$$\n",
    ">\n",
    "> _Kalman Gain:_\n",
    ">\n",
    "> $$K_1 = \\frac{\\bar{\\Sigma}_1}{\\bar{\\Sigma}_1 + q^2} = 0.7$$\n",
    ">\n",
    "> _Measurement Update:_\n",
    ">\n",
    "> $$\\mu_1 = \\bar{\\mu}_1 + K_1(z_1 - \\bar{\\mu}_1) = 1.3$$\n",
    ">\n",
    "> $$\\Sigma_1 = (1 - K_1)\\bar{\\Sigma}_1 = 2.1$$\n",
    "\n",
    "> #### Iteration 2 ($k=2$)\n",
    ">\n",
    "> _Prediction:_\n",
    ">\n",
    "> $$\\bar{\\mu}_2 = \\mu_1 = 1.3, \\quad \\bar{\\Sigma}_2 = \\Sigma_1 + r^2 = 4.1$$\n",
    ">\n",
    "> _Kalman Gain:_\n",
    ">\n",
    "> $$K_2 = \\frac{\\bar{\\Sigma}_2}{\\bar{\\Sigma}_2 + q^2} = 0.5775$$\n",
    ">\n",
    "> _Measurement Update:_\n",
    ">\n",
    "> $$\\mu_2 = \\bar{\\mu}_2 + K_2(z_2 - \\bar{\\mu}_2) = 1.7042$$\n",
    ">\n",
    "> $$\\Sigma_2 = (1 - K_2)\\bar{\\Sigma}_2 = 1.7322$$\n",
    "\n",
    "And in conclusion the full table:\n",
    "\n",
    "| k   | $\\bar{\\mu}_k$ | $\\bar{\\Sigma}_k$  | $K_k$ | $\\mu_k$ | $\\Sigma_k$ |\n",
    "| :-: |:-------------:| :----------------:| :------:| :-----: | :--------: |\n",
    "| 1   | 2             | 7                 | 0.7     | 1.3     | 2.1        |\n",
    "| 2   | 1.3           | 4.1               | 0.5775  | 1.7042  | 1.7322   |"
   ],
   "metadata": {
    "collapsed": false,
    "pycharm": {
     "name": "#%% md\n"
    }
   }
  },
  {
   "cell_type": "code",
   "execution_count": null,
   "metadata": {
    "collapsed": true
   },
   "outputs": [],
   "source": []
  }
 ],
 "metadata": {
  "kernelspec": {
   "display_name": "Python 3",
   "language": "python",
   "name": "python3"
  },
  "language_info": {
   "codemirror_mode": {
    "name": "ipython",
    "version": 2
   },
   "file_extension": ".py",
   "mimetype": "text/x-python",
   "name": "python",
   "nbconvert_exporter": "python",
   "pygments_lexer": "ipython2",
   "version": "2.7.6"
  }
 },
 "nbformat": 4,
 "nbformat_minor": 0
}